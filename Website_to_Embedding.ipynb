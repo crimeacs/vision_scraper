{
  "nbformat": 4,
  "nbformat_minor": 0,
  "metadata": {
    "colab": {
      "provenance": [],
      "collapsed_sections": [
        "LsBaW1PJ15k5"
      ],
      "authorship_tag": "ABX9TyO8cvYNkmZ8vv+yjk8OAv6J",
      "include_colab_link": true
    },
    "kernelspec": {
      "name": "python3",
      "display_name": "Python 3"
    },
    "language_info": {
      "name": "python"
    }
  },
  "cells": [
    {
      "cell_type": "markdown",
      "metadata": {
        "id": "view-in-github",
        "colab_type": "text"
      },
      "source": [
        "<a href=\"https://colab.research.google.com/github/crimeacs/vision_scraper/blob/main/Website_to_Embedding.ipynb\" target=\"_parent\"><img src=\"https://colab.research.google.com/assets/colab-badge.svg\" alt=\"Open In Colab\"/></a>"
      ]
    },
    {
      "cell_type": "code",
      "execution_count": null,
      "metadata": {
        "id": "LMLPldCt13iy",
        "cellView": "form"
      },
      "outputs": [],
      "source": [
        "#@title Install\n",
        "#@markdown Run this cell to install dependencies\n",
        "\n",
        "# Set up for running selenium in Google Colab\n",
        "## You don't need to run this code if you do it in Jupyter notebook, or other local Python setting\n",
        "%%shell\n",
        "sudo apt -y update\n",
        "sudo apt install -y wget curl unzip\n",
        "wget http://archive.ubuntu.com/ubuntu/pool/main/libu/libu2f-host/libu2f-udev_1.1.4-1_all.deb\n",
        "dpkg -i libu2f-udev_1.1.4-1_all.deb\n",
        "wget https://dl.google.com/linux/direct/google-chrome-stable_current_amd64.deb\n",
        "dpkg -i google-chrome-stable_current_amd64.deb\n",
        "CHROME_DRIVER_VERSION=`curl -sS chromedriver.storage.googleapis.com/LATEST_RELEASE`\n",
        "wget -N https://chromedriver.storage.googleapis.com/$CHROME_DRIVER_VERSION/chromedriver_linux64.zip -P /tmp/\n",
        "unzip -o /tmp/chromedriver_linux64.zip -d /tmp/\n",
        "chmod +x /tmp/chromedriver\n",
        "mv /tmp/chromedriver /usr/local/bin/chromedriver\n",
        "pip install -q selenium\n",
        "pip install -q chromedriver-autoinstaller\n",
        "pip install -q openai"
      ]
    },
    {
      "cell_type": "code",
      "source": [
        "#@title Set up\n",
        "#@markdown Run this cell to set up everything we need\n",
        "import sys\n",
        "sys.path.insert(0,'/usr/lib/chromium-browser/chromedriver')\n",
        "\n",
        "import time\n",
        "import pandas as pd\n",
        "from bs4 import BeautifulSoup\n",
        "from selenium import webdriver\n",
        "import chromedriver_autoinstaller\n",
        "\n",
        "# setup chrome options\n",
        "chrome_options = webdriver.ChromeOptions()\n",
        "chrome_options.add_argument('--headless') # ensure GUI is off\n",
        "chrome_options.add_argument('--no-sandbox')\n",
        "chrome_options.add_argument('--disable-dev-shm-usage')\n",
        "\n",
        "# set path to chromedriver as per your configuration\n",
        "chromedriver_autoinstaller.install()\n",
        "\n",
        "from selenium import webdriver\n",
        "from PIL import Image\n",
        "import base64\n",
        "import io\n",
        "import time\n",
        "import json\n",
        "\n",
        "# Function to encode the image\n",
        "def encode_image(image_path):\n",
        "  with open(image_path, \"rb\") as image_file:\n",
        "    return base64.b64encode(image_file.read()).decode('utf-8')\n",
        "\n",
        "def download_website(url):\n",
        "    # set up the webdriver\n",
        "    driver = webdriver.Chrome(options=chrome_options)\n",
        "\n",
        "    # Navigate to the website\n",
        "    driver.get(url)\n",
        "\n",
        "    # Set the size of the browser window (adjust as needed)\n",
        "    width, height = 1200, 1080\n",
        "    driver.set_window_size(width, height)\n",
        "\n",
        "    screenshots = []\n",
        "    max_scrolls = 6\n",
        "    current_scroll = 0\n",
        "\n",
        "    while True:\n",
        "        print(f'Taking {current_scroll+1}/{max_scrolls} screenshot')\n",
        "        time.sleep(2)\n",
        "        # Capture a screenshot\n",
        "        screenshot = driver.get_screenshot_as_png()\n",
        "        screenshots.append(screenshot)\n",
        "\n",
        "        # Check if this is the last scroll\n",
        "        last_height = height * (current_scroll + 1)\n",
        "\n",
        "        # Scroll down\n",
        "        driver.execute_script(f\"window.scrollTo(0, {last_height});\")\n",
        "\n",
        "        # Wait for page to load (adjust sleep time as needed)\n",
        "        time.sleep(2)  # Import 'time' module at the beginning of your script\n",
        "\n",
        "        # Get new scroll height\n",
        "        new_height = driver.execute_script(\"return document.body.scrollHeight\")\n",
        "\n",
        "        # Check if reached the end of the page\n",
        "        if new_height <= last_height or current_scroll >= max_scrolls:\n",
        "            print(\"Reached the end of the page or max scroll limit.\")\n",
        "            break\n",
        "        else:\n",
        "            current_scroll += 1\n",
        "\n",
        "    driver.quit()\n",
        "\n",
        "    # Process and save screenshots\n",
        "    combined_height = height * len(screenshots)\n",
        "    combined_image = Image.new(\"RGB\", (width, combined_height))\n",
        "\n",
        "    current_height = 0\n",
        "    for img_data in screenshots:\n",
        "        img = Image.open(io.BytesIO(img_data))\n",
        "        combined_image.paste(img, (0, current_height))\n",
        "        current_height += height\n",
        "\n",
        "    combined_image.save(\"combined_screenshot.png\")\n",
        "    print('Done')\n",
        "\n",
        "    # Path to your image\n",
        "    image_path = \"/content/combined_screenshot.png\"\n",
        "\n",
        "    # Getting the base64 string\n",
        "    base64_image = encode_image(image_path)\n",
        "    return base64_image\n",
        "\n",
        "def analyse_content(user_prompt, system_prompt, base64_image, max_tokens):\n",
        "    response_scoring = client.chat.completions.create(\n",
        "    model=\"gpt-4-vision-preview\",\n",
        "    # response_format={ \"type\": \"json_object\"},\n",
        "    messages=[\n",
        "        {\"role\": \"system\", \"content\":\n",
        "        f\"\"\"\n",
        "        You are a Helpful Assistent with following characteristics: {system_prompt}. Your task is to analyse given website.\n",
        "        \"\"\"\n",
        "        },\n",
        "\n",
        "        {\n",
        "      \"role\": \"user\",\n",
        "      \"content\": [\n",
        "        {\"type\": \"text\", \"text\": user_prompt},\n",
        "        {\n",
        "          \"type\": \"image_url\",\n",
        "          \"image_url\": {\n",
        "            \"url\": f\"data:image/jpeg;base64,{base64_image}\",\n",
        "          },\n",
        "        }]\n",
        "        }\n",
        "    ],\n",
        "\n",
        "  max_tokens=max_tokens,\n",
        "    )\n",
        "\n",
        "    return json.loads(response_scoring.json())['choices'][0]['message']['content']"
      ],
      "metadata": {
        "id": "yJQLrIJA19ce",
        "cellView": "form"
      },
      "execution_count": 2,
      "outputs": []
    },
    {
      "cell_type": "code",
      "source": [
        "#@title Input your OpenAI API Key\n",
        "#@markdown Please input your own OpenAI API Key and run the cell\n",
        "\n",
        "from openai import OpenAI\n",
        "\n",
        "# Ask the user to input their OpenAI API key\n",
        "api_key =\"YOU API KEY\" #@param {\"type\" : \"string\"}\n",
        "client = OpenAI(api_key=api_key)\n"
      ],
      "metadata": {
        "cellView": "form",
        "id": "gS0wscgs1t-s"
      },
      "execution_count": 4,
      "outputs": []
    },
    {
      "cell_type": "code",
      "source": [
        "#@title # Scrape\n",
        "import os\n",
        "from tqdm import tqdm\n",
        "import base64\n",
        "import time\n",
        "\n",
        "#@markdown Please insert URL to the website you want to scrape\n",
        "url = 'https://github.com/features/copilot' #@param {\"type\":\"string\"}\n",
        "\n",
        "#@markdown System prompt defines the role of your scraper. Default is a good start\n",
        "system_prompt = 'You are a Scraping Assistant that is able to summarize content of any website from its screenshot.' #@param {\"type\":\"string\"}\n",
        "\n",
        "#@markdown User prompt defines the task for the scraper. Default is a good start\n",
        "user_prompt = 'Please summarize the content of this screenshot. Give me an executive summary about this webpage and thier business' #@param {\"type\":\"string\"}\n",
        "\n",
        "#@markdown How long do you want your summary to be\n",
        "max_tokens = 200 #@param {\"type\":\"integer\"}\n",
        "\n",
        "base64_image = download_website(url)\n",
        "results = analyse_content(user_prompt, system_prompt, base64_image, max_tokens)\n",
        "\n",
        "print(results)"
      ],
      "metadata": {
        "id": "5S84B_mr2O2h",
        "colab": {
          "base_uri": "https://localhost:8080/"
        },
        "cellView": "form",
        "outputId": "65c38f65-36b1-4e64-98db-56661d706f67"
      },
      "execution_count": 33,
      "outputs": [
        {
          "output_type": "stream",
          "name": "stdout",
          "text": [
            "This screenshot depicts a webpage for GitHub Copilot, advertised as the world's most widely adopted AI developer tool. The site emphasizes Copilot's potential to enhance developer productivity and accelerate the pace of software development. The tool is described as the competitive advantage that developers ask for by name and is positioned as an industry standard.\n",
            "\n",
            "Key highlights include:\n",
            "- Adoption by over 37,000 businesses and the usage by one in three Fortune 500 companies.\n",
            "- A developer preference of 55% according to a Stack Overflow 2022 Survey.\n",
            "\n",
            "GitHub Copilot is designed by AI leaders to provide confidence to its users, with endorsements from reputable organizations such as Shopify, Mercado Libre, Mercedes-Benz, and Fidelity. The webpage also mentions a case study featuring Duolingo, which uses GitHub Copilot as a force multiplier for its engineering team.\n",
            "\n",
            "The AI coding assistant is showcased as a tool that can assist in writing code, helping developers to focus more on creative and complex tasks rather than repetitive coding. The page\n"
          ]
        }
      ]
    },
    {
      "cell_type": "code",
      "source": [
        "#@title BONUS: Compute embedding of a summary (if you know what embedding is)\n",
        "#@markdown embeddings are saved to the root of the folder\n",
        "\n",
        "import numpy as np\n",
        "response = client.embeddings.create(\n",
        "    input=results,\n",
        "    model=\"text-embedding-ada-002\"\n",
        ")\n",
        "\n",
        "website_embedding = response.data[0].embedding\n",
        "np.save(f\"{url.split('.')[1]}.npy\", website_embedding)"
      ],
      "metadata": {
        "cellView": "form",
        "id": "2W88dLeQ6s1d"
      },
      "execution_count": 22,
      "outputs": []
    }
  ]
}
